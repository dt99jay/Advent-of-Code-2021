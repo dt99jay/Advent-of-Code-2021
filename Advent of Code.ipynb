{
 "cells": [
  {
   "cell_type": "markdown",
   "metadata": {},
   "source": [
    "### Day One"
   ]
  },
  {
   "cell_type": "code",
   "execution_count": 1,
   "metadata": {},
   "outputs": [
    {
     "name": "stdout",
     "output_type": "stream",
     "text": [
      "[159, 170, 171, 170, 168, 167, 166, 164, 163, 154]\n"
     ]
    }
   ],
   "source": [
    "# Input\n",
    "\n",
    "with open(\"day_one_input.txt\") as f:\n",
    "    data = [int(i) for i in f.read().split(\"\\n\")]\n",
    "print(data[:10])"
   ]
  },
  {
   "cell_type": "code",
   "execution_count": 2,
   "metadata": {},
   "outputs": [
    {
     "data": {
      "text/plain": [
       "1451"
      ]
     },
     "execution_count": 2,
     "metadata": {},
     "output_type": "execute_result"
    }
   ],
   "source": [
    "# Part One\n",
    "\n",
    "len([True for i in range(len(data)-1) if data[i+1] > data[i]])"
   ]
  },
  {
   "cell_type": "code",
   "execution_count": 3,
   "metadata": {},
   "outputs": [
    {
     "data": {
      "text/plain": [
       "1395"
      ]
     },
     "execution_count": 3,
     "metadata": {},
     "output_type": "execute_result"
    }
   ],
   "source": [
    "# Part Two\n",
    "\n",
    "len([True for i in range(len(data)) if sum(data[i+1:i+4]) > sum(data[i:i+3])])"
   ]
  },
  {
   "cell_type": "markdown",
   "metadata": {},
   "source": [
    "### Day Two"
   ]
  },
  {
   "cell_type": "code",
   "execution_count": 4,
   "metadata": {},
   "outputs": [
    {
     "name": "stdout",
     "output_type": "stream",
     "text": [
      "['forward 4', 'down 9', 'forward 2', 'forward 2', 'down 7', 'up 2', 'down 9', 'up 8', 'down 7', 'down 9']\n"
     ]
    }
   ],
   "source": [
    "# Input\n",
    "\n",
    "with open(\"day_two_input.txt\") as f:\n",
    "    data = f.read().split(\"\\n\")\n",
    "print(data[:10])"
   ]
  },
  {
   "cell_type": "code",
   "execution_count": 5,
   "metadata": {},
   "outputs": [],
   "source": [
    "# Parse data\n",
    "\n",
    "instructions = [(line.split()[0], int(line.split()[1])) for line in data]"
   ]
  },
  {
   "cell_type": "code",
   "execution_count": 6,
   "metadata": {},
   "outputs": [
    {
     "data": {
      "text/plain": [
       "1893605"
      ]
     },
     "execution_count": 6,
     "metadata": {},
     "output_type": "execute_result"
    }
   ],
   "source": [
    "# Part One\n",
    "\n",
    "horizontal = sum(dist for instr, dist in instructions if instr == \"forward\")\n",
    "depth = sum(-dist if instr == \"up\" else dist if instr == \"down\" else 0 for instr, dist in instructions)\n",
    "horizontal*depth"
   ]
  },
  {
   "cell_type": "code",
   "execution_count": 7,
   "metadata": {},
   "outputs": [
    {
     "data": {
      "text/plain": [
       "2120734350"
      ]
     },
     "execution_count": 7,
     "metadata": {},
     "output_type": "execute_result"
    }
   ],
   "source": [
    "# Part Two\n",
    "\n",
    "aim, horizontal, depth = 0, 0, 0\n",
    "for instr, dist in instructions:\n",
    "    aim += -dist if instr == \"up\" else dist if instr == \"down\" else 0\n",
    "    if instr == \"forward\":\n",
    "        horizontal += dist\n",
    "        depth += dist*aim\n",
    "horizontal*depth"
   ]
  },
  {
   "cell_type": "markdown",
   "metadata": {},
   "source": [
    "### Day Three"
   ]
  },
  {
   "cell_type": "code",
   "execution_count": 8,
   "metadata": {},
   "outputs": [
    {
     "name": "stdout",
     "output_type": "stream",
     "text": [
      "['111111010011', '110011001100', '010011111000', '101001100011', '011011100110', '110100011011', '001000001010', '011011101000', '110011001000', '001011101010']\n"
     ]
    }
   ],
   "source": [
    "# Input\n",
    "\n",
    "with open(\"day_three_input.txt\") as f:\n",
    "    data = f.read().split(\"\\n\")\n",
    "print(data[:10])"
   ]
  },
  {
   "cell_type": "code",
   "execution_count": 9,
   "metadata": {},
   "outputs": [
    {
     "data": {
      "text/plain": [
       "3985686"
      ]
     },
     "execution_count": 9,
     "metadata": {},
     "output_type": "execute_result"
    }
   ],
   "source": [
    "# Part One\n",
    "\n",
    "from collections import Counter\n",
    "\n",
    "gamma, epsilon = [], []\n",
    "for bit in range(len(data[0])):\n",
    "    counts = Counter([diagnostic[bit] for diagnostic in data]).most_common()\n",
    "    gamma.append(counts[0][0])\n",
    "    epsilon.append(counts[-1][0])\n",
    "int(\"\".join(gamma), 2)*int(\"\".join(epsilon), 2)"
   ]
  },
  {
   "cell_type": "code",
   "execution_count": 10,
   "metadata": {},
   "outputs": [
    {
     "data": {
      "text/plain": [
       "2555739"
      ]
     },
     "execution_count": 10,
     "metadata": {},
     "output_type": "execute_result"
    }
   ],
   "source": [
    "# Part Two\n",
    "\n",
    "ratings = []\n",
    "for counter_index, bit_value in zip((0, -1), (\"1\", \"0\")):\n",
    "    data_subset = data\n",
    "    bit_index = 0\n",
    "    while len(data_subset) > 1:\n",
    "        counts = Counter([diagnostic[bit_index] for diagnostic in data_subset]).most_common()\n",
    "        bit_test = bit_value if counts[0][1] == counts[1][1] else counts[counter_index][0]\n",
    "        data_subset = [diagnostic for diagnostic in data_subset if diagnostic[bit_index] == bit_test]\n",
    "        bit_index += 1\n",
    "    ratings.append(int(\"\".join(data_subset[0]), 2))\n",
    "ratings[0]*ratings[1]"
   ]
  },
  {
   "cell_type": "markdown",
   "metadata": {},
   "source": [
    "### Day Four"
   ]
  },
  {
   "cell_type": "code",
   "execution_count": 11,
   "metadata": {},
   "outputs": [
    {
     "name": "stdout",
     "output_type": "stream",
     "text": [
      "[49, 48, 98, 84, 71, 59, 37, 36, 6, 21]\n",
      "[[86 46 47 61 57]\n",
      " [44 74 17  5 87]\n",
      " [78  8 54 55 97]\n",
      " [11 90  7 75 70]\n",
      " [81 50 84 10 60]]\n"
     ]
    }
   ],
   "source": [
    "# Input\n",
    "\n",
    "import numpy as np\n",
    "\n",
    "with open(\"day_four_input.txt\") as f:\n",
    "    numbers = f.readline().strip()\n",
    "\n",
    "numbers = [int(n) for n in numbers.split(\",\")]\n",
    "boards = np.recfromtxt(\"day_four_input.txt\", skip_header=1).reshape(100, 5, 5) # Thanks Josh\n",
    "\n",
    "print(numbers[:10])\n",
    "print(boards[0])"
   ]
  },
  {
   "cell_type": "code",
   "execution_count": 12,
   "metadata": {},
   "outputs": [
    {
     "data": {
      "text/plain": [
       "65325"
      ]
     },
     "execution_count": 12,
     "metadata": {},
     "output_type": "execute_result"
    }
   ],
   "source": [
    "# Part One\n",
    "\n",
    "results = []\n",
    "for i, board in enumerate(boards):\n",
    "    mask = np.full(board.shape, False)\n",
    "    numbers_iter = iter(numbers)\n",
    "    while 5 not in np.sum(mask, axis=0) and 5 not in np.sum(mask, axis=1):\n",
    "        last_called = next(numbers_iter)\n",
    "        mask = mask | (board == last_called)\n",
    "    results.append({\n",
    "        \"score\": int(last_called*board[~mask].sum()),\n",
    "        \"order\": numbers.index(last_called)\n",
    "    })\n",
    "\n",
    "sorted(results, key=lambda k: k[\"order\"])[0][\"score\"]"
   ]
  },
  {
   "cell_type": "code",
   "execution_count": 13,
   "metadata": {},
   "outputs": [
    {
     "data": {
      "text/plain": [
       "4624"
      ]
     },
     "execution_count": 13,
     "metadata": {},
     "output_type": "execute_result"
    }
   ],
   "source": [
    "# Part Two\n",
    "\n",
    "sorted(results, key=lambda k: k[\"order\"], reverse=True)[0][\"score\"]"
   ]
  },
  {
   "cell_type": "markdown",
   "metadata": {},
   "source": [
    "### Day Five"
   ]
  },
  {
   "cell_type": "code",
   "execution_count": 14,
   "metadata": {},
   "outputs": [
    {
     "data": {
      "text/plain": [
       "['599,531 -> 599,32',\n",
       " '435,904 -> 435,489',\n",
       " '768,714 -> 768,187',\n",
       " '845,552 -> 596,801',\n",
       " '167,680 -> 167,445',\n",
       " '45,887 -> 45,346',\n",
       " '780,295 -> 179,896',\n",
       " '310,539 -> 602,831',\n",
       " '535,556 -> 349,556',\n",
       " '797,180 -> 797,62']"
      ]
     },
     "execution_count": 14,
     "metadata": {},
     "output_type": "execute_result"
    }
   ],
   "source": [
    "# Input\n",
    "\n",
    "with open(\"day_five_input.txt\") as f:\n",
    "    data = f.read().split(\"\\n\")\n",
    "data[:10]"
   ]
  },
  {
   "cell_type": "code",
   "execution_count": 15,
   "metadata": {},
   "outputs": [
    {
     "data": {
      "text/plain": [
       "7644"
      ]
     },
     "execution_count": 15,
     "metadata": {},
     "output_type": "execute_result"
    }
   ],
   "source": [
    "# Part One\n",
    "\n",
    "from shapely import wkt\n",
    "from rasterio.features import rasterize\n",
    "from rasterio.enums import MergeAlg\n",
    "\n",
    "vents = [wkt.loads(\n",
    "    f\"LINESTRING ({line.replace(',', ' ').replace(' -> ', ', ')})\"\n",
    ") for line in data]\n",
    "orthogonal_vents = [vent for vent in vents if len(set(vent.bounds)) < 4]\n",
    "np.sum(rasterize(orthogonal_vents, out_shape=(1000,1000), merge_alg=MergeAlg(\"ADD\")) >=2)"
   ]
  },
  {
   "cell_type": "code",
   "execution_count": 16,
   "metadata": {},
   "outputs": [
    {
     "data": {
      "text/plain": [
       "18627"
      ]
     },
     "execution_count": 16,
     "metadata": {},
     "output_type": "execute_result"
    }
   ],
   "source": [
    "# Part Two\n",
    "\n",
    "np.sum(rasterize(vents, out_shape=(1000,1000), merge_alg=MergeAlg(\"ADD\")) >=2)"
   ]
  },
  {
   "cell_type": "markdown",
   "metadata": {},
   "source": [
    "### Day Six"
   ]
  },
  {
   "cell_type": "code",
   "execution_count": 17,
   "metadata": {},
   "outputs": [
    {
     "data": {
      "text/plain": [
       "['3', '5', '4', '1', '2', '1', '5', '5', '1', '1']"
      ]
     },
     "execution_count": 17,
     "metadata": {},
     "output_type": "execute_result"
    }
   ],
   "source": [
    "# Input\n",
    "\n",
    "with open(\"day_six_input.txt\") as f:\n",
    "    data = f.read().split(\",\")\n",
    "data[:10]"
   ]
  },
  {
   "cell_type": "code",
   "execution_count": 18,
   "metadata": {},
   "outputs": [
    {
     "name": "stdout",
     "output_type": "stream",
     "text": [
      "CPU times: user 1.54 s, sys: 7.09 ms, total: 1.55 s\n",
      "Wall time: 1.61 s\n"
     ]
    },
    {
     "data": {
      "text/plain": [
       "374927"
      ]
     },
     "execution_count": 18,
     "metadata": {},
     "output_type": "execute_result"
    }
   ],
   "source": [
    "%%time\n",
    "\n",
    "# Part One\n",
    "\n",
    "timers = [int(d) for d in data]\n",
    "\n",
    "for day in range(80):\n",
    "    new_timers = []\n",
    "    for i, timer in enumerate(timers):\n",
    "        timers[i] = timer-1 if timer-1 >= 0 else 6\n",
    "        new_timers.append(8) if timer-1 == -1 else None\n",
    "    timers.extend(new_timers)\n",
    "    \n",
    "len(timers)"
   ]
  },
  {
   "cell_type": "code",
   "execution_count": 19,
   "metadata": {},
   "outputs": [
    {
     "name": "stdout",
     "output_type": "stream",
     "text": [
      "CPU times: user 958 µs, sys: 4 µs, total: 962 µs\n",
      "Wall time: 968 µs\n"
     ]
    },
    {
     "data": {
      "text/plain": [
       "1687617803407"
      ]
     },
     "execution_count": 19,
     "metadata": {},
     "output_type": "execute_result"
    }
   ],
   "source": [
    "%%time\n",
    "\n",
    "# Part Two -- refactor of Part One\n",
    "\n",
    "from collections import deque\n",
    "\n",
    "timers = deque([0]*9)\n",
    "for d in [int(d) for d in data]:\n",
    "    timers[d] += 1\n",
    "    \n",
    "for day in range(256):\n",
    "    timers.rotate(-1)\n",
    "    timers[6] += timers[8]\n",
    "\n",
    "sum(timers)"
   ]
  },
  {
   "cell_type": "markdown",
   "metadata": {},
   "source": [
    "### Day Seven"
   ]
  },
  {
   "cell_type": "code",
   "execution_count": 20,
   "metadata": {},
   "outputs": [
    {
     "data": {
      "text/plain": [
       "['1101', '1', '29', '67', '1102', '0', '1', '65', '1008', '65']"
      ]
     },
     "execution_count": 20,
     "metadata": {},
     "output_type": "execute_result"
    }
   ],
   "source": [
    "# Input\n",
    "\n",
    "with open(\"day_seven_input.txt\") as f:\n",
    "    data = f.read().split(\",\")\n",
    "data[:10]"
   ]
  },
  {
   "cell_type": "code",
   "execution_count": 21,
   "metadata": {},
   "outputs": [
    {
     "data": {
      "text/plain": [
       "341558"
      ]
     },
     "execution_count": 21,
     "metadata": {},
     "output_type": "execute_result"
    }
   ],
   "source": [
    "# Part One\n",
    "\n",
    "from statistics import median\n",
    "\n",
    "positions = [int(d) for d in data]\n",
    "optimum = int(median(positions))\n",
    "sum([abs(i-optimum) for i in positions])"
   ]
  },
  {
   "cell_type": "code",
   "execution_count": 33,
   "metadata": {},
   "outputs": [
    {
     "name": "stdout",
     "output_type": "stream",
     "text": [
      "CPU times: user 91.4 ms, sys: 3.43 ms, total: 94.8 ms\n",
      "Wall time: 101 ms\n"
     ]
    },
    {
     "data": {
      "text/plain": [
       "93214037"
      ]
     },
     "execution_count": 33,
     "metadata": {},
     "output_type": "execute_result"
    }
   ],
   "source": [
    "%%time\n",
    "\n",
    "# Part Two\n",
    "\n",
    "positions = np.array(positions)\n",
    "optimums = []\n",
    "mid = int(np.mean(positions))\n",
    "\n",
    "for opt in range(max(positions)): # mid-3, mid+3\n",
    "    distances = np.abs(positions-opt)\n",
    "    fuels = distances * (distances+1) // 2 # Thanks Harry\n",
    "    optimums.append({\"opt\": opt, \"fuel\": np.sum(fuels)})\n",
    "    \n",
    "\"\"\"\n",
    "for opt in range(min(positions), max(positions)):\n",
    "    fuel = 0\n",
    "    for p in positions:\n",
    "        if abs(p-opt) > 0:\n",
    "            fuel += max(np.cumsum(np.arange(abs(p-opt)+1)))\n",
    "    optimums.append({\"position\":opt, \"fuel\": fuel})\n",
    "\"\"\"\n",
    "\n",
    "sorted(optimums, key=lambda opt: opt[\"fuel\"])[0][\"fuel\"]"
   ]
  },
  {
   "cell_type": "code",
   "execution_count": 34,
   "metadata": {},
   "outputs": [
    {
     "data": {
      "text/plain": [
       "<matplotlib.collections.PathCollection at 0x11bbc4970>"
      ]
     },
     "execution_count": 34,
     "metadata": {},
     "output_type": "execute_result"
    },
    {
     "data": {
      "image/png": "[encoded data removed]",
      "text/plain": [
       "<Figure size 432x288 with 1 Axes>"
      ]
     },
     "metadata": {
      "needs_background": "light"
     },
     "output_type": "display_data"
    }
   ],
   "source": [
    "import matplotlib.pyplot as plt\n",
    "\n",
    "plt.plot(\n",
    "    [opt[\"opt\"] for opt in optimums],\n",
    "    [opt[\"fuel\"] for opt in optimums]\n",
    ")\n",
    "\n",
    "plt.scatter(\n",
    "    sorted(optimums, key=lambda opt: opt[\"fuel\"])[0][\"opt\"],\n",
    "    sorted(optimums, key=lambda opt: opt[\"fuel\"])[0][\"fuel\"]\n",
    ")"
   ]
  },
  {
   "cell_type": "markdown",
   "metadata": {},
   "source": [
    "### Day Eight"
   ]
  },
  {
   "cell_type": "code",
   "execution_count": 323,
   "metadata": {},
   "outputs": [
    {
     "data": {
      "text/plain": [
       "['bge dacgef gefac geabf gcab baedf efbdgc agcfeb gb edacfgb | dabef caefg gb gfabe',\n",
       " 'cefgda agcbf febcda dc bfeda bdec cabfd dbafge febgacd dca | gafedc dfcab cd abgcf',\n",
       " 'fabe gfdcea cbdga fgbdec dacfbeg geabc gaecf be agfbce beg | ebacfg fegdca agceb bafe',\n",
       " 'gb fegac dgbafc dgba gdbfeac fcbade edcbgf fgacb bgf abfcd | cfedbag gbf fgcea agdb',\n",
       " 'fedgc adecbgf fec fcabde fc fgbc edcfbg aegdf egcdb gebdac | gecdf fc defcg cgdeab',\n",
       " 'edgfac fcgbea fdbca dcgeabf gceba ed edcgab debg edabc ade | dbcaf cgfdbae dbeg egbdcaf',\n",
       " 'cbagef fdcga dgaefb de acfeb ceafd ecbd dfabec bcfdega ade | ed dbefac cafbed ed',\n",
       " 'dfecgb afcde fg cbdgfa edbgac cdfag dbfgeca gcf gbfa gdcba | fg bedfgc bdcafg gbfdeac',\n",
       " 'ecagbf eba eb gbefa gfabcd efcb ebagcd gcfabed abcfg gefad | dfcbga efbagc eagcdbf be',\n",
       " 'fce bcagf bcdgaef agbfdc efbda cebdfg geca gbecaf bceaf ec | gcea abcef cefab cbgaf']"
      ]
     },
     "execution_count": 323,
     "metadata": {},
     "output_type": "execute_result"
    }
   ],
   "source": [
    "# Input\n",
    "\n",
    "with open(\"day_eight_input.txt\") as f:\n",
    "    data = f.read().split(\"\\n\")\n",
    "data[:10]"
   ]
  },
  {
   "cell_type": "code",
   "execution_count": 346,
   "metadata": {},
   "outputs": [
    {
     "data": {
      "text/plain": [
       "355"
      ]
     },
     "execution_count": 346,
     "metadata": {},
     "output_type": "execute_result"
    }
   ],
   "source": [
    "# Part One\n",
    "\n",
    "data\n",
    "\n",
    "signals, outputs = zip(*[d.split(\" | \") for d in data])\n",
    "signals = [signal.split() for signal in signals]\n",
    "outputs = [output.split() for output in outputs]\n",
    "\n",
    "len([digit for output in outputs for digit in output if len(digit) in [2, 4, 3, 7]])"
   ]
  },
  {
   "cell_type": "code",
   "execution_count": 349,
   "metadata": {},
   "outputs": [
    {
     "data": {
      "text/plain": [
       "983030"
      ]
     },
     "execution_count": 349,
     "metadata": {},
     "output_type": "execute_result"
    }
   ],
   "source": [
    "import copy\n",
    "\n",
    "correct = copy.deepcopy(signals)\n",
    "length_lookup = {2: 1, 4: 4, 3: 7, 7: 8} # length: digit\n",
    "\n",
    "totals = []\n",
    "\n",
    "# Argh\n",
    "\n",
    "for i, (signal, output) in enumerate(zip(signals, outputs)):\n",
    "    code_lookup = {} # jumbled segments: correct segments\n",
    "    for j, digit in enumerate(signal):\n",
    "        if len(digit) in length_lookup.keys():\n",
    "            correct_digit = length_lookup[len(digit)]\n",
    "            correct[i][j] = correct_digit\n",
    "            code_lookup[correct_digit] = set(digit)\n",
    "    for j, digit in enumerate(signal):\n",
    "        if len(digit) not in length_lookup.keys():\n",
    "            if len(set(digit) & code_lookup[4]) == 2:\n",
    "                correct_digit = 2\n",
    "                correct[i][j] = correct_digit\n",
    "                code_lookup[correct_digit] = set(list(digit))\n",
    "    for j, digit in enumerate(signal):\n",
    "        if type(correct[i][j]) != int:\n",
    "            if len(set(digit) & code_lookup[2]) == 3:\n",
    "                correct_digit = 5\n",
    "                correct[i][j] = correct_digit\n",
    "                code_lookup[correct_digit] = set(list(digit))\n",
    "    for j, digit in enumerate(signal):\n",
    "        if type(correct[i][j]) != int:\n",
    "            if len(digit) == 6 and len(set(digit) & code_lookup[5]) == 4:\n",
    "                correct_digit = 0\n",
    "                correct[i][j] = correct_digit\n",
    "                code_lookup[correct_digit] = set(list(digit))\n",
    "    for j, digit in enumerate(signal):\n",
    "        if type(correct[i][j]) != int:\n",
    "            if len(digit) == 5 and len(set(digit) & code_lookup[1]) == 2:\n",
    "                correct_digit = 3\n",
    "                correct[i][j] = correct_digit\n",
    "                code_lookup[correct_digit] = set(list(digit))\n",
    "    for j, digit in enumerate(signal):\n",
    "        if type(correct[i][j]) != int:\n",
    "            if len(set(digit) & code_lookup[1]) == 1:\n",
    "                correct_digit = 6\n",
    "                correct[i][j] = correct_digit\n",
    "                code_lookup[correct_digit] = set(list(digit))\n",
    "    for j, digit in enumerate(signal):\n",
    "        if type(correct[i][j]) != int:\n",
    "            if len(set(digit) & code_lookup[1]) == 2:\n",
    "                correct_digit = 9\n",
    "                correct[i][j] = correct_digit\n",
    "                code_lookup[correct_digit] = set(list(digit))\n",
    "\n",
    "    decoded = \"\"\n",
    "    for display in output:\n",
    "        for k, v in code_lookup.items():\n",
    "            if set(display) == v:\n",
    "                decoded += str(k)\n",
    "    totals.append(int(decoded))\n",
    "\n",
    "sum(totals)"
   ]
  }
 ],
 "metadata": {
  "kernelspec": {
   "display_name": "Python 3",
   "language": "python",
   "name": "python3"
  },
  "language_info": {
   "codemirror_mode": {
    "name": "ipython",
    "version": 3
   },
   "file_extension": ".py",
   "mimetype": "text/x-python",
   "name": "python",
   "nbconvert_exporter": "python",
   "pygments_lexer": "ipython3",
   "version": "3.8.8"
  }
 },
 "nbformat": 4,
 "nbformat_minor": 4
}
