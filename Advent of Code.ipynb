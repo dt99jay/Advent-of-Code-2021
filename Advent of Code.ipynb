{
 "cells": [
  {
   "cell_type": "markdown",
   "metadata": {},
   "source": [
    "### Day One"
   ]
  },
  {
   "cell_type": "code",
   "execution_count": null,
   "metadata": {},
   "outputs": [],
   "source": [
    "# Input\n",
    "\n",
    "with open(\"day_one_input.txt\") as f:\n",
    "    data = [int(i) for i in f.read().split(\"\\n\")]\n",
    "print(data[:10])"
   ]
  },
  {
   "cell_type": "code",
   "execution_count": null,
   "metadata": {},
   "outputs": [],
   "source": [
    "# Part One\n",
    "\n",
    "len([True for i in range(len(data)-1) if data[i+1] > data[i]])"
   ]
  },
  {
   "cell_type": "code",
   "execution_count": null,
   "metadata": {},
   "outputs": [],
   "source": [
    "# Part Two\n",
    "\n",
    "len([True for i in range(len(data)) if sum(data[i+1:i+4]) > sum(data[i:i+3])])"
   ]
  },
  {
   "cell_type": "markdown",
   "metadata": {},
   "source": [
    "### Day Two"
   ]
  },
  {
   "cell_type": "code",
   "execution_count": null,
   "metadata": {},
   "outputs": [],
   "source": [
    "# Input\n",
    "\n",
    "with open(\"day_two_input.txt\") as f:\n",
    "    data = f.read().split(\"\\n\")\n",
    "print(data[:10])"
   ]
  },
  {
   "cell_type": "code",
   "execution_count": null,
   "metadata": {},
   "outputs": [],
   "source": [
    "# Parse data\n",
    "\n",
    "instructions = [(line.split()[0], int(line.split()[1])) for line in data]"
   ]
  },
  {
   "cell_type": "code",
   "execution_count": null,
   "metadata": {},
   "outputs": [],
   "source": [
    "# Part One\n",
    "\n",
    "horizontal = sum(dist for instr, dist in instructions if instr == \"forward\")\n",
    "depth = sum(-dist if instr == \"up\" else dist if instr == \"down\" else 0 for instr, dist in instructions)\n",
    "horizontal*depth"
   ]
  },
  {
   "cell_type": "code",
   "execution_count": null,
   "metadata": {},
   "outputs": [],
   "source": [
    "# Part Two\n",
    "\n",
    "aim, horizontal, depth = 0, 0, 0\n",
    "for instr, dist in instructions:\n",
    "    aim += -dist if instr == \"up\" else dist if instr == \"down\" else 0\n",
    "    if instr == \"forward\":\n",
    "        horizontal += dist\n",
    "        depth += dist*aim\n",
    "horizontal*depth"
   ]
  },
  {
   "cell_type": "markdown",
   "metadata": {},
   "source": [
    "### Day Three"
   ]
  },
  {
   "cell_type": "code",
   "execution_count": null,
   "metadata": {},
   "outputs": [],
   "source": [
    "# Input\n",
    "\n",
    "with open(\"day_three_input.txt\") as f:\n",
    "    data = f.read().split(\"\\n\")\n",
    "print(data[:10])"
   ]
  },
  {
   "cell_type": "code",
   "execution_count": 9,
   "metadata": {},
   "outputs": [
    {
     "data": {
      "text/plain": [
       "3985686"
      ]
     },
     "execution_count": 9,
     "metadata": {},
     "output_type": "execute_result"
    }
   ],
   "source": [
    "# Part One\n",
    "\n",
    "from collections import Counter\n",
    "\n",
    "gamma, epsilon = [], []\n",
    "for bit in range(len(data[0])):\n",
    "    counts = Counter([diagnostic[bit] for diagnostic in data]).most_common()\n",
    "    gamma.append(counts[0][0])\n",
    "    epsilon.append(counts[-1][0])\n",
    "int(\"\".join(gamma), 2)*int(\"\".join(epsilon), 2)"
   ]
  },
  {
   "cell_type": "code",
   "execution_count": 10,
   "metadata": {},
   "outputs": [
    {
     "data": {
      "text/plain": [
       "2555739"
      ]
     },
     "execution_count": 10,
     "metadata": {},
     "output_type": "execute_result"
    }
   ],
   "source": [
    "# Part Two\n",
    "\n",
    "ratings = []\n",
    "for counter_index, bit_value in zip((0, -1), (\"1\", \"0\")):\n",
    "    data_subset = data\n",
    "    bit_index = 0\n",
    "    while len(data_subset) > 1:\n",
    "        counts = Counter([diagnostic[bit_index] for diagnostic in data_subset]).most_common()\n",
    "        bit_test = bit_value if counts[0][1] == counts[1][1] else counts[counter_index][0]\n",
    "        data_subset = [diagnostic for diagnostic in data_subset if diagnostic[bit_index] == bit_test]\n",
    "        bit_index += 1\n",
    "    ratings.append(int(\"\".join(data_subset[0]), 2))\n",
    "ratings[0]*ratings[1]"
   ]
  },
  {
   "cell_type": "markdown",
   "metadata": {},
   "source": [
    "### Day Four"
   ]
  },
  {
   "cell_type": "code",
   "execution_count": 11,
   "metadata": {},
   "outputs": [
    {
     "name": "stdout",
     "output_type": "stream",
     "text": [
      "[49, 48, 98, 84, 71, 59, 37, 36, 6, 21]\n",
      "[[86 46 47 61 57]\n",
      " [44 74 17  5 87]\n",
      " [78  8 54 55 97]\n",
      " [11 90  7 75 70]\n",
      " [81 50 84 10 60]]\n"
     ]
    }
   ],
   "source": [
    "# Input\n",
    "\n",
    "import numpy as np\n",
    "\n",
    "with open(\"day_four_input.txt\") as f:\n",
    "    numbers = f.readline().strip()\n",
    "\n",
    "numbers = [int(n) for n in numbers.split(\",\")]\n",
    "boards = np.recfromtxt(\"day_four_input.txt\", skip_header=1).reshape(100, 5, 5) # Thanks Josh\n",
    "\n",
    "print(numbers[:10])\n",
    "print(boards[0])"
   ]
  },
  {
   "cell_type": "code",
   "execution_count": 12,
   "metadata": {},
   "outputs": [
    {
     "data": {
      "text/plain": [
       "65325"
      ]
     },
     "execution_count": 12,
     "metadata": {},
     "output_type": "execute_result"
    }
   ],
   "source": [
    "# Part One\n",
    "\n",
    "results = []\n",
    "for i, board in enumerate(boards):\n",
    "    mask = np.full(board.shape, False)\n",
    "    numbers_iter = iter(numbers)\n",
    "    while 5 not in np.sum(mask, axis=0) and 5 not in np.sum(mask, axis=1):\n",
    "        last_called = next(numbers_iter)\n",
    "        mask = mask | (board == last_called)\n",
    "    results.append({\n",
    "        \"score\": int(last_called*board[~mask].sum()),\n",
    "        \"order\": numbers.index(last_called)\n",
    "    })\n",
    "\n",
    "sorted(results, key=lambda k: k[\"order\"])[0][\"score\"]"
   ]
  },
  {
   "cell_type": "code",
   "execution_count": 13,
   "metadata": {},
   "outputs": [
    {
     "data": {
      "text/plain": [
       "4624"
      ]
     },
     "execution_count": 13,
     "metadata": {},
     "output_type": "execute_result"
    }
   ],
   "source": [
    "# Part Two\n",
    "\n",
    "sorted(results, key=lambda k: k[\"order\"], reverse=True)[0][\"score\"]"
   ]
  },
  {
   "cell_type": "markdown",
   "metadata": {},
   "source": [
    "### Day Five"
   ]
  },
  {
   "cell_type": "code",
   "execution_count": 14,
   "metadata": {},
   "outputs": [
    {
     "data": {
      "text/plain": [
       "['599,531 -> 599,32',\n",
       " '435,904 -> 435,489',\n",
       " '768,714 -> 768,187',\n",
       " '845,552 -> 596,801',\n",
       " '167,680 -> 167,445',\n",
       " '45,887 -> 45,346',\n",
       " '780,295 -> 179,896',\n",
       " '310,539 -> 602,831',\n",
       " '535,556 -> 349,556',\n",
       " '797,180 -> 797,62']"
      ]
     },
     "execution_count": 14,
     "metadata": {},
     "output_type": "execute_result"
    }
   ],
   "source": [
    "# Input\n",
    "\n",
    "with open(\"day_five_input.txt\") as f:\n",
    "    data = f.read().split(\"\\n\")\n",
    "data[:10]"
   ]
  },
  {
   "cell_type": "code",
   "execution_count": 15,
   "metadata": {},
   "outputs": [
    {
     "data": {
      "text/plain": [
       "7644"
      ]
     },
     "execution_count": 15,
     "metadata": {},
     "output_type": "execute_result"
    }
   ],
   "source": [
    "# Part One\n",
    "\n",
    "from shapely import wkt\n",
    "from rasterio.features import rasterize\n",
    "from rasterio.enums import MergeAlg\n",
    "\n",
    "vents = [wkt.loads(\n",
    "    f\"LINESTRING ({line.replace(',', ' ').replace(' -> ', ', ')})\"\n",
    ") for line in data]\n",
    "orthogonal_vents = [vent for vent in vents if len(set(vent.bounds)) < 4]\n",
    "np.sum(rasterize(orthogonal_vents, out_shape=(1000,1000), merge_alg=MergeAlg(\"ADD\")) >=2)"
   ]
  },
  {
   "cell_type": "code",
   "execution_count": 16,
   "metadata": {},
   "outputs": [
    {
     "data": {
      "text/plain": [
       "18627"
      ]
     },
     "execution_count": 16,
     "metadata": {},
     "output_type": "execute_result"
    }
   ],
   "source": [
    "# Part Two\n",
    "\n",
    "np.sum(rasterize(vents, out_shape=(1000,1000), merge_alg=MergeAlg(\"ADD\")) >=2)"
   ]
  },
  {
   "cell_type": "markdown",
   "metadata": {},
   "source": [
    "### Day Six"
   ]
  },
  {
   "cell_type": "code",
   "execution_count": 17,
   "metadata": {},
   "outputs": [
    {
     "data": {
      "text/plain": [
       "['3', '5', '4', '1', '2', '1', '5', '5', '1', '1']"
      ]
     },
     "execution_count": 17,
     "metadata": {},
     "output_type": "execute_result"
    }
   ],
   "source": [
    "# Input\n",
    "\n",
    "with open(\"day_six_input.txt\") as f:\n",
    "    data = f.read().split(\",\")\n",
    "data[:10]"
   ]
  },
  {
   "cell_type": "code",
   "execution_count": 18,
   "metadata": {},
   "outputs": [
    {
     "name": "stdout",
     "output_type": "stream",
     "text": [
      "CPU times: user 1.54 s, sys: 6.14 ms, total: 1.54 s\n",
      "Wall time: 1.55 s\n"
     ]
    },
    {
     "data": {
      "text/plain": [
       "374927"
      ]
     },
     "execution_count": 18,
     "metadata": {},
     "output_type": "execute_result"
    }
   ],
   "source": [
    "%%time\n",
    "\n",
    "# Part One\n",
    "\n",
    "timers = [int(d) for d in data]\n",
    "\n",
    "for day in range(80):\n",
    "    new_timers = []\n",
    "    for i, timer in enumerate(timers):\n",
    "        timers[i] = timer-1 if timer-1 >= 0 else 6\n",
    "        new_timers.append(8) if timer-1 == -1 else None\n",
    "    timers.extend(new_timers)\n",
    "    \n",
    "len(timers)"
   ]
  },
  {
   "cell_type": "code",
   "execution_count": 19,
   "metadata": {},
   "outputs": [
    {
     "name": "stdout",
     "output_type": "stream",
     "text": [
      "CPU times: user 1.07 ms, sys: 3 µs, total: 1.07 ms\n",
      "Wall time: 1.09 ms\n"
     ]
    },
    {
     "data": {
      "text/plain": [
       "1687617803407"
      ]
     },
     "execution_count": 19,
     "metadata": {},
     "output_type": "execute_result"
    }
   ],
   "source": [
    "%%time\n",
    "\n",
    "# Part Two -- refactor of Part One\n",
    "\n",
    "from collections import deque\n",
    "\n",
    "timers = deque([0]*9)\n",
    "for d in [int(d) for d in data]:\n",
    "    timers[d] += 1\n",
    "    \n",
    "for day in range(256):\n",
    "    timers.rotate(-1)\n",
    "    timers[6] += timers[8]\n",
    "\n",
    "sum(timers)"
   ]
  },
  {
   "cell_type": "markdown",
   "metadata": {},
   "source": [
    "### Day Seven"
   ]
  },
  {
   "cell_type": "code",
   "execution_count": 20,
   "metadata": {},
   "outputs": [
    {
     "data": {
      "text/plain": [
       "['1101', '1', '29', '67', '1102', '0', '1', '65', '1008', '65']"
      ]
     },
     "execution_count": 20,
     "metadata": {},
     "output_type": "execute_result"
    }
   ],
   "source": [
    "# Input\n",
    "\n",
    "with open(\"day_seven_input.txt\") as f:\n",
    "    data = f.read().split(\",\")\n",
    "data[:10]"
   ]
  },
  {
   "cell_type": "code",
   "execution_count": 21,
   "metadata": {},
   "outputs": [
    {
     "data": {
      "text/plain": [
       "341558"
      ]
     },
     "execution_count": 21,
     "metadata": {},
     "output_type": "execute_result"
    }
   ],
   "source": [
    "# Part One\n",
    "\n",
    "from statistics import median\n",
    "\n",
    "positions = [int(d) for d in data]\n",
    "optimum = int(median(positions))\n",
    "sum([abs(i-optimum) for i in positions])"
   ]
  },
  {
   "cell_type": "code",
   "execution_count": 22,
   "metadata": {},
   "outputs": [
    {
     "name": "stdout",
     "output_type": "stream",
     "text": [
      "CPU times: user 106 ms, sys: 5.31 ms, total: 112 ms\n",
      "Wall time: 123 ms\n"
     ]
    },
    {
     "data": {
      "text/plain": [
       "93214037"
      ]
     },
     "execution_count": 22,
     "metadata": {},
     "output_type": "execute_result"
    }
   ],
   "source": [
    "%%time\n",
    "\n",
    "# Part Two\n",
    "\n",
    "positions = np.array(positions)\n",
    "optimums = []\n",
    "mid = int(np.mean(positions))\n",
    "\n",
    "for opt in range(max(positions)): # mid-3, mid+3\n",
    "    distances = np.abs(positions-opt)\n",
    "    fuels = distances * (distances+1) // 2 # Thanks Harry\n",
    "    optimums.append({\"opt\": opt, \"fuel\": np.sum(fuels)})\n",
    "    \n",
    "\"\"\"\n",
    "for opt in range(min(positions), max(positions)):\n",
    "    fuel = 0\n",
    "    for p in positions:\n",
    "        if abs(p-opt) > 0:\n",
    "            fuel += max(np.cumsum(np.arange(abs(p-opt)+1)))\n",
    "    optimums.append({\"position\":opt, \"fuel\": fuel})\n",
    "\"\"\"\n",
    "\n",
    "sorted(optimums, key=lambda opt: opt[\"fuel\"])[0][\"fuel\"]"
   ]
  },
  {
   "cell_type": "code",
   "execution_count": 23,
   "metadata": {},
   "outputs": [
    {
     "data": {
      "text/plain": [
       "<matplotlib.collections.PathCollection at 0x118213f40>"
      ]
     },
     "execution_count": 23,
     "metadata": {},
     "output_type": "execute_result"
    },
    {
     "data": {
      "image/png": "[encoded data removed]",
      "text/plain": [
       "<Figure size 432x288 with 1 Axes>"
      ]
     },
     "metadata": {
      "needs_background": "light"
     },
     "output_type": "display_data"
    }
   ],
   "source": [
    "import matplotlib.pyplot as plt\n",
    "\n",
    "plt.plot(\n",
    "    [opt[\"opt\"] for opt in optimums],\n",
    "    [opt[\"fuel\"] for opt in optimums]\n",
    ")\n",
    "\n",
    "plt.scatter(\n",
    "    sorted(optimums, key=lambda opt: opt[\"fuel\"])[0][\"opt\"],\n",
    "    sorted(optimums, key=lambda opt: opt[\"fuel\"])[0][\"fuel\"]\n",
    ")"
   ]
  },
  {
   "cell_type": "markdown",
   "metadata": {},
   "source": [
    "### Day Eight"
   ]
  },
  {
   "cell_type": "code",
   "execution_count": 24,
   "metadata": {},
   "outputs": [
    {
     "data": {
      "text/plain": [
       "['bge dacgef gefac geabf gcab baedf efbdgc agcfeb gb edacfgb | dabef caefg gb gfabe',\n",
       " 'cefgda agcbf febcda dc bfeda bdec cabfd dbafge febgacd dca | gafedc dfcab cd abgcf',\n",
       " 'fabe gfdcea cbdga fgbdec dacfbeg geabc gaecf be agfbce beg | ebacfg fegdca agceb bafe',\n",
       " 'gb fegac dgbafc dgba gdbfeac fcbade edcbgf fgacb bgf abfcd | cfedbag gbf fgcea agdb',\n",
       " 'fedgc adecbgf fec fcabde fc fgbc edcfbg aegdf egcdb gebdac | gecdf fc defcg cgdeab',\n",
       " 'edgfac fcgbea fdbca dcgeabf gceba ed edcgab debg edabc ade | dbcaf cgfdbae dbeg egbdcaf',\n",
       " 'cbagef fdcga dgaefb de acfeb ceafd ecbd dfabec bcfdega ade | ed dbefac cafbed ed',\n",
       " 'dfecgb afcde fg cbdgfa edbgac cdfag dbfgeca gcf gbfa gdcba | fg bedfgc bdcafg gbfdeac',\n",
       " 'ecagbf eba eb gbefa gfabcd efcb ebagcd gcfabed abcfg gefad | dfcbga efbagc eagcdbf be',\n",
       " 'fce bcagf bcdgaef agbfdc efbda cebdfg geca gbecaf bceaf ec | gcea abcef cefab cbgaf']"
      ]
     },
     "execution_count": 24,
     "metadata": {},
     "output_type": "execute_result"
    }
   ],
   "source": [
    "# Input\n",
    "\n",
    "with open(\"day_eight_input.txt\") as f:\n",
    "    data = f.read().split(\"\\n\")\n",
    "data[:10]"
   ]
  },
  {
   "cell_type": "code",
   "execution_count": 25,
   "metadata": {},
   "outputs": [
    {
     "data": {
      "text/plain": [
       "355"
      ]
     },
     "execution_count": 25,
     "metadata": {},
     "output_type": "execute_result"
    }
   ],
   "source": [
    "# Part One\n",
    "\n",
    "signals, outputs = zip(*[d.split(\" | \") for d in data])\n",
    "signals = [signal.split() for signal in signals]\n",
    "outputs = [output.split() for output in outputs]\n",
    "\n",
    "len([digit for output in outputs for digit in output if len(digit) in [2, 4, 3, 7]])"
   ]
  },
  {
   "cell_type": "code",
   "execution_count": 26,
   "metadata": {},
   "outputs": [
    {
     "data": {
      "text/plain": [
       "983030"
      ]
     },
     "execution_count": 26,
     "metadata": {},
     "output_type": "execute_result"
    }
   ],
   "source": [
    "# Part Two\n",
    "\n",
    "totals = []\n",
    "\n",
    "for signal, output in zip(signals, outputs):\n",
    "    \n",
    "    codes = {}\n",
    "    \n",
    "    for digit in signal:\n",
    "        if len(digit) in [2, 4, 3, 7]: # It's 1, 4, 7 or 8\n",
    "            length_to_digit = {2: 1, 4: 4, 3: 7, 7: 8}\n",
    "            codes[frozenset(digit)] = length_to_digit[len(digit)]\n",
    "\n",
    "    one = [code for code, digit in codes.items() if digit == 1][0]\n",
    "    four = [code for code, digit in codes.items() if digit == 4][0]\n",
    "    \n",
    "    for digit in signal:\n",
    "        if len(digit) == 5: # It's 2, 3 or 5 -- tell them apart by their ∩ with 1 and 4\n",
    "            if len(one & set(digit)) == 2:\n",
    "                codes[frozenset(digit)] = 3\n",
    "            elif len(four & set(digit)) == 2:\n",
    "                codes[frozenset(digit)] = 2\n",
    "            else:\n",
    "                codes[frozenset(digit)] = 5\n",
    "        elif len(digit) == 6: # It's 0, 6 or 9 -- tell them apart by their ∩ with 1 and 4\n",
    "            if len(one & set(digit)) == 1:\n",
    "                codes[frozenset(digit)] = 6\n",
    "            elif len(four & set(digit)) == 3:\n",
    "                codes[frozenset(digit)] = 0\n",
    "            else:\n",
    "                codes[frozenset(digit)] = 9\n",
    "\n",
    "    digits = [str(codes[frozenset(display)]) for display in output]\n",
    "    totals.append(int(\"\".join(digits)))\n",
    "\n",
    "sum(totals)"
   ]
  },
  {
   "cell_type": "markdown",
   "metadata": {},
   "source": [
    "### Day Nine"
   ]
  },
  {
   "cell_type": "code",
   "execution_count": 27,
   "metadata": {},
   "outputs": [
    {
     "data": {
      "text/plain": [
       "(100, 100)"
      ]
     },
     "execution_count": 27,
     "metadata": {},
     "output_type": "execute_result"
    }
   ],
   "source": [
    "# Input\n",
    "\n",
    "with open(\"day_nine_input.txt\") as f:\n",
    "    data = np.genfromtxt(f, delimiter=1, dtype=np.int16)\n",
    "data.shape"
   ]
  },
  {
   "cell_type": "code",
   "execution_count": 28,
   "metadata": {},
   "outputs": [
    {
     "data": {
      "text/plain": [
       "462"
      ]
     },
     "execution_count": 28,
     "metadata": {},
     "output_type": "execute_result"
    }
   ],
   "source": [
    "# Part One -- switched from minimum_filter to labels\n",
    "\n",
    "from scipy.ndimage import label\n",
    "\n",
    "labels, num_features = label(data!=9)\n",
    "\n",
    "basins = []\n",
    "\n",
    "for l in range(num_features+1):\n",
    "    if min(data[labels==l]) != 9:\n",
    "        basins.append({\"size\": len(data[labels==l]), \"score\": min(data[labels==l])+1})\n",
    "\n",
    "\"\"\"\n",
    "from scipy.ndimage import minimum_filter\n",
    "\n",
    "mins = minimum_filter(data, footprint=np.array([[0,1,0],[1,1,1],[0,1,0]]))\n",
    "\n",
    "lows = data[data==mins]\n",
    "np.sum(lows[lows!=9]+1)\n",
    "\"\"\"\n",
    "\n",
    "sum([basin[\"score\"] for basin in basins])"
   ]
  },
  {
   "cell_type": "code",
   "execution_count": 29,
   "metadata": {},
   "outputs": [
    {
     "data": {
      "text/plain": [
       "1397760"
      ]
     },
     "execution_count": 29,
     "metadata": {},
     "output_type": "execute_result"
    }
   ],
   "source": [
    "# Part Two -- switched from rasterio to labels\n",
    "\n",
    "\"\"\"\n",
    "from rasterio.features import shapes\n",
    "from shapely.geometry import shape\n",
    "\n",
    "basins = []\n",
    "for polygon, _ in shapes(np.ones(data.shape, dtype=np.int16), mask=(data!=9)):\n",
    "    basins.append(shape(polygon))\n",
    "\n",
    "# Could presumably use rasterio's shapes to get low points in part one too\n",
    "    \n",
    "int(np.product([p.area for p in sorted(basins, reverse=True, key=lambda p: p.area)[:3]]))\n",
    "\"\"\"\n",
    "\n",
    "np.product(sorted([basin[\"size\"] for basin in basins], reverse=True)[:3])"
   ]
  },
  {
   "cell_type": "code",
   "execution_count": 30,
   "metadata": {},
   "outputs": [
    {
     "data": {
      "text/plain": [
       "'\\nimport matplotlib.pyplot as plt\\n\\nfig, ax = plt.subplots(1,1, figsize=(10,10))\\n\\nfor basin in basins:\\n    ax.plot(*basin.exterior.xy, c=\"grey\")\\nfor basin in sorted(basins, reverse=True, key=lambda p: p.area)[:3]:\\n    ax.plot(*basin.exterior.xy)\\nax.imshow(data==9)\\n'"
      ]
     },
     "execution_count": 30,
     "metadata": {},
     "output_type": "execute_result"
    }
   ],
   "source": [
    "\"\"\"\n",
    "import matplotlib.pyplot as plt\n",
    "\n",
    "fig, ax = plt.subplots(1,1, figsize=(10,10))\n",
    "\n",
    "for basin in basins:\n",
    "    ax.plot(*basin.exterior.xy, c=\"grey\")\n",
    "for basin in sorted(basins, reverse=True, key=lambda p: p.area)[:3]:\n",
    "    ax.plot(*basin.exterior.xy)\n",
    "ax.imshow(data==9)\n",
    "\"\"\""
   ]
  },
  {
   "cell_type": "markdown",
   "metadata": {},
   "source": [
    "### Day Ten"
   ]
  },
  {
   "cell_type": "code",
   "execution_count": 31,
   "metadata": {},
   "outputs": [
    {
     "data": {
      "text/plain": [
       "['([({<(({<[(<([{}<>])<(()<>){<>[]}>>[[{<>{}}[<>{}]][(<>[])<{}<>>]]){[{{[][]}[[]{}]}({{}[]}[{}<>])]({({}{})',\n",
       " '([{{[(<{[{{<[{{}[]}{(){}}]{[{}{})([]())}>}(({{{}}{<>{}}}{(()[])(()<>)}){<<{}()><[][]>>})}(<<<(<',\n",
       " '((<[[<([[({{[([]{})([][])]{({}())(()}}}({[[][]](()<>)}(<[]{}>[[]{}]))}<[[{()<>}<[][]>]]{{{',\n",
       " '{{[{{<[{[[(<((<>())(<><>))<<()[]>>>)<<<(<><>)[()()]><([])<[]>>>{{({}()){[][]}}<[[]]>}>]]<[',\n",
       " '[<{(<{<<[[[[(<{}()>{{}()})[[()()]<{}()>]]{{<<><>>({}<>)}(([]{})[{}<>]}}]{{({[]<>}{[][]})<[<>[]]<{}()>>}[{',\n",
       " '<<{<{<<{<<[(([<>()][<>{}])[<()<>>{()[]}])[<({})<<>[]>><<[][]>[[]<>]>]]>>((<<<(<>[])[{}{}]>[<[]{}>({})]>>)<',\n",
       " '<[[[(<{[{((<{(()[])[{}<>]}([[][]][()<>])>[(<[]())<<><>>){({}{}){<>[]}}]))}]}>{<([<<[<(()<>)',\n",
       " '({{{<<<{({[{[<()[]>({}())]{<{}()>({}{})}}]{([(<>)<[]<>>]{([]<>)(()())})(<<<><>>{{}{}}>[({}{})<()',\n",
       " '{{<<[<[{<(({{({}<>)<<>()>}{{{}<>}}}{<({}())({}<>)>([<><>]{()[]})}))<[<{<[]{}>([][])}((<>())({}[]',\n",
       " '[[<([({<<<<{<{<><>}{()<>}>}>{(([[]{}>[{}()])[[[][]]])(<[[]<>](())>(<()[]>({}<>)))}>{<[<{{}{}}']"
      ]
     },
     "execution_count": 31,
     "metadata": {},
     "output_type": "execute_result"
    }
   ],
   "source": [
    "# Input\n",
    "\n",
    "with open(\"day_ten_input.txt\") as f:\n",
    "    data = f.read().split(\"\\n\")\n",
    "data[:10]"
   ]
  },
  {
   "cell_type": "code",
   "execution_count": 32,
   "metadata": {},
   "outputs": [
    {
     "data": {
      "text/plain": [
       "374061"
      ]
     },
     "execution_count": 32,
     "metadata": {},
     "output_type": "execute_result"
    }
   ],
   "source": [
    "# Part One\n",
    "\n",
    "points = {\")\": 3, \"]\": 57, \"}\": 1197, \">\": 25137}\n",
    "open_brackets = [\"<\", \"(\", \"[\", \"{\"]\n",
    "close_brackets =  [\">\", \")\", \"]\", \"}\"]\n",
    "errors = {k:0 for k in close_brackets}\n",
    "incomplete = []\n",
    "\n",
    "for i, line in enumerate(data):\n",
    "    brackets = []\n",
    "    corrupt = False\n",
    "    for char in line:\n",
    "        if char in open_brackets:\n",
    "            brackets.append(char)\n",
    "        elif char in close_brackets:\n",
    "            if close_brackets.index(char) == open_brackets.index(brackets[-1]):\n",
    "                del(brackets[-1])\n",
    "            else:\n",
    "                errors[char] += 1\n",
    "                corrupt = True\n",
    "                break\n",
    "    incomplete.append((line, brackets)) if not corrupt else None\n",
    "\n",
    "sum([points[k]*v for k, v in errors.items()])"
   ]
  },
  {
   "cell_type": "code",
   "execution_count": 33,
   "metadata": {},
   "outputs": [
    {
     "data": {
      "text/plain": [
       "2116639949"
      ]
     },
     "execution_count": 33,
     "metadata": {},
     "output_type": "execute_result"
    }
   ],
   "source": [
    "# Part Two\n",
    "\n",
    "from statistics import median\n",
    "\n",
    "points = {\")\": 1, \"]\": 2, \"}\": 3, \">\": 4}\n",
    "scores = []\n",
    "\n",
    "for line, brackets in incomplete:\n",
    "    completion = [close_brackets[open_brackets.index(i)] for i in reversed(brackets)]\n",
    "    score = 0\n",
    "    for i in completion:\n",
    "        score *= 5\n",
    "        score += points[i]\n",
    "    scores.append(score)\n",
    "\n",
    "median(sorted(scores))"
   ]
  },
  {
   "cell_type": "markdown",
   "metadata": {},
   "source": [
    "### Day Eleven"
   ]
  },
  {
   "cell_type": "code",
   "execution_count": 34,
   "metadata": {},
   "outputs": [
    {
     "data": {
      "text/plain": [
       "array([[4, 7, 3, 8, 6, 1, 5, 5, 5, 6],\n",
       "       [6, 7, 4, 4, 4, 2, 3, 7, 4, 1],\n",
       "       [2, 8, 1, 2, 8, 6, 8, 8, 2, 7],\n",
       "       [8, 8, 4, 4, 3, 6, 5, 6, 2, 4],\n",
       "       [4, 5, 4, 6, 6, 7, 4, 2, 6, 6],\n",
       "       [4, 5, 1, 8, 6, 7, 4, 2, 7, 8],\n",
       "       [7, 4, 5, 7, 2, 3, 7, 4, 3, 1],\n",
       "       [4, 5, 2, 4, 8, 7, 3, 2, 4, 7],\n",
       "       [3, 1, 5, 3, 3, 4, 1, 3, 1, 4],\n",
       "       [3, 7, 2, 1, 4, 1, 4, 6, 6, 7]], dtype=int16)"
      ]
     },
     "execution_count": 34,
     "metadata": {},
     "output_type": "execute_result"
    }
   ],
   "source": [
    "# Input\n",
    "\n",
    "data = np.genfromtxt(\"day_eleven_input.txt\", delimiter=1, dtype=np.int16)\n",
    "data"
   ]
  },
  {
   "cell_type": "code",
   "execution_count": 35,
   "metadata": {},
   "outputs": [
    {
     "data": {
      "text/plain": [
       "1615"
      ]
     },
     "execution_count": 35,
     "metadata": {},
     "output_type": "execute_result"
    }
   ],
   "source": [
    "# Part One\n",
    "\n",
    "octopi = np.array(np.pad(data, 1, mode=\"constant\", constant_values=0))\n",
    "mask = np.ones(octopi.shape, dtype=bool)\n",
    "mask[1:-1,1:-1] = False\n",
    "\n",
    "record = []\n",
    "flashes = 0\n",
    "\n",
    "for step in range(1, 500):\n",
    "    concurrent = False\n",
    "    octopi += 1\n",
    "    while np.any(np.logical_and(octopi>9, mask==False)):\n",
    "        for row, col in zip(*np.where(np.logical_and(octopi>9, mask==False))):\n",
    "            octopi[row-1:row+2, col-1:col+2] += 1\n",
    "            mask[row, col] = True\n",
    "            flashes += 1\n",
    "\n",
    "    if np.all(mask[1:-1,1:-1]==True):\n",
    "        concurrent = True\n",
    "            \n",
    "    octopi[mask] = 0\n",
    "    mask.fill(True)\n",
    "    mask[1:-1,1:-1] = False\n",
    "    \n",
    "    record.append({\"step\": step, \"flashes\": flashes, \"concurrent\": concurrent})\n",
    "\n",
    "[r for r in record if r[\"step\"] == 100][0][\"flashes\"]"
   ]
  },
  {
   "cell_type": "code",
   "execution_count": 36,
   "metadata": {},
   "outputs": [
    {
     "data": {
      "text/plain": [
       "249"
      ]
     },
     "execution_count": 36,
     "metadata": {},
     "output_type": "execute_result"
    }
   ],
   "source": [
    "# Part Two\n",
    "\n",
    "sorted([r for r in record if r[\"concurrent\"] == True], key=lambda r: r[\"step\"])[0][\"step\"]"
   ]
  },
  {
   "cell_type": "markdown",
   "metadata": {},
   "source": [
    "### Day Twelve -- unfinished"
   ]
  },
  {
   "cell_type": "code",
   "execution_count": 37,
   "metadata": {},
   "outputs": [
    {
     "data": {
      "text/plain": [
       "['start-A', 'start-b', 'A-c', 'A-b', 'b-d', 'A-end', 'b-end']"
      ]
     },
     "execution_count": 37,
     "metadata": {},
     "output_type": "execute_result"
    }
   ],
   "source": [
    "# Input\n",
    "\n",
    "caves = \"\"\"start-A\n",
    "start-b\n",
    "A-c\n",
    "A-b\n",
    "b-d\n",
    "A-end\n",
    "b-end\"\"\"\n",
    "\n",
    "caves = caves.split(\"\\n\")\n",
    "caves"
   ]
  },
  {
   "cell_type": "code",
   "execution_count": 38,
   "metadata": {},
   "outputs": [
    {
     "name": "stdout",
     "output_type": "stream",
     "text": [
      "('start', 'A')\n",
      "('A', 'c')\n",
      "('A', 'b')\n",
      "('b', 'start')\n",
      "('b', 'd')\n",
      "('b', 'end')\n",
      "('end', 'A')\n"
     ]
    },
    {
     "data": {
      "image/png": "[encoded data removed]",
      "text/plain": [
       "<Figure size 432x288 with 1 Axes>"
      ]
     },
     "metadata": {},
     "output_type": "display_data"
    }
   ],
   "source": [
    "import networkx as nx\n",
    "\n",
    "cave_graph = nx.Graph()\n",
    "for cave in caves:\n",
    "    cave_graph.add_edge(*cave.split(\"-\"))\n",
    "\n",
    "nx.draw(cave_graph, with_labels=True)\n",
    "\n",
    "for e in nx.edge_dfs(cave_graph, source=\"start\"):\n",
    "    print(e)"
   ]
  },
  {
   "cell_type": "markdown",
   "metadata": {},
   "source": [
    "### Day Thirteen"
   ]
  },
  {
   "cell_type": "code",
   "execution_count": 39,
   "metadata": {},
   "outputs": [
    {
     "name": "stdout",
     "output_type": "stream",
     "text": [
      "[(1148, 688), (1020, 159), (857, 707), (1176, 415), (388, 275), (50, 849), (544, 520), (1, 418), (1119, 280), (217, 26)]\n",
      "['x=655', 'y=447', 'x=327']\n"
     ]
    }
   ],
   "source": [
    "# Input\n",
    "\n",
    "with open(\"day_thirteen_input.txt\") as f:\n",
    "    data = f.read()\n",
    "\n",
    "dots = [d.split(\",\") for d in data.split(\"\\n\\n\")[0].split(\"\\n\")]\n",
    "dots = [(int(d[0]), int(d[1])) for d in dots]\n",
    "\n",
    "instructions = [i.replace(\"fold along \", \"\") for i in data.split(\"\\n\\n\")[1].split(\"\\n\")]\n",
    "\n",
    "print(dots[:10])\n",
    "print(instructions[:3])"
   ]
  },
  {
   "cell_type": "code",
   "execution_count": 40,
   "metadata": {},
   "outputs": [
    {
     "name": "stdout",
     "output_type": "stream",
     "text": [
      "781\n"
     ]
    },
    {
     "data": {
      "text/plain": [
       "<matplotlib.image.AxesImage at 0x10c509820>"
      ]
     },
     "execution_count": 40,
     "metadata": {},
     "output_type": "execute_result"
    },
    {
     "data": {
      "image/png": "[encoded data removed]",
      "text/plain": [
       "<Figure size 432x288 with 1 Axes>"
      ]
     },
     "metadata": {
      "needs_background": "light"
     },
     "output_type": "display_data"
    }
   ],
   "source": [
    "# Parts One & Two\n",
    "\n",
    "width = max([d[0] for d in dots])+1\n",
    "height = max([d[1] for d in dots])+1\n",
    "\n",
    "paper = np.zeros((height, width), dtype=int)\n",
    "\n",
    "for x, y in dots:\n",
    "    paper[y, x] = 1\n",
    "\n",
    "for i, instr in enumerate(instructions):\n",
    "    if instr[0] == \"y\":\n",
    "        loc = int(instr[2:])\n",
    "        folded = paper[:loc, :]\n",
    "        foldee = np.flipud(paper[loc+1:, :])\n",
    "        padding = np.zeros((folded.shape[0] - foldee.shape[0], foldee.shape[1]), dtype=int) # Hack\n",
    "        paper = folded | (np.concatenate((padding, foldee)))\n",
    "    elif instr[0] == \"x\":\n",
    "        loc = int(instr[2:])\n",
    "        folded = paper[:, :loc]\n",
    "        foldee = np.fliplr(paper[:, loc+1:])\n",
    "        paper = folded | foldee\n",
    "    if i == 0:\n",
    "        print(np.sum(paper)) # Part One\n",
    "\n",
    "plt.imshow(paper) # Part Two"
   ]
  },
  {
   "cell_type": "markdown",
   "metadata": {},
   "source": [
    "### Day Fourteen"
   ]
  },
  {
   "cell_type": "code",
   "execution_count": 123,
   "metadata": {},
   "outputs": [
    {
     "name": "stdout",
     "output_type": "stream",
     "text": [
      "BSONBHNSSCFPSFOPHKPK\n",
      "{('P', 'F'): 'P', ('K', 'O'): 'H', ('C', 'H'): 'K', ('K', 'N'): 'S', ('S', 'S'): 'K', ('K', 'B'): 'B', ('V', 'S'): 'V', ('K', 'V'): 'O', ('K', 'P'): 'B', ('O', 'F'): 'C', ('H', 'B'): 'C', ('N', 'P'): 'O', ('N', 'S'): 'V', ('V', 'O'): 'P', ('V', 'F'): 'H', ('C', 'K'): 'B', ('P', 'C'): 'O', ('S', 'K'): 'O', ('K', 'F'): 'H', ('F', 'V'): 'V', ('P', 'P'): 'H', ('K', 'S'): 'B', ('F', 'P'): 'N', ('B', 'V'): 'V', ('S', 'B'): 'F', ('P', 'B'): 'B', ('O', 'N'): 'F', ('S', 'F'): 'P', ('V', 'H'): 'F', ('F', 'C'): 'N', ('C', 'B'): 'H', ('H', 'P'): 'B', ('N', 'C'): 'B', ('F', 'H'): 'K', ('B', 'F'): 'P', ('C', 'N'): 'N', ('N', 'K'): 'H', ('S', 'C'): 'S', ('P', 'K'): 'V', ('P', 'V'): 'C', ('K', 'C'): 'H', ('H', 'N'): 'K', ('N', 'O'): 'H', ('N', 'N'): 'S', ('V', 'C'): 'P', ('F', 'F'): 'N', ('O', 'O'): 'H', ('B', 'K'): 'N', ('F', 'S'): 'V', ('B', 'O'): 'F', ('S', 'H'): 'S', ('V', 'K'): 'F', ('O', 'C'): 'F', ('F', 'N'): 'V', ('O', 'V'): 'K', ('C', 'F'): 'F', ('N', 'V'): 'V', ('O', 'P'): 'K', ('P', 'N'): 'K', ('S', 'O'): 'P', ('P', 'S'): 'S', ('K', 'K'): 'H', ('H', 'H'): 'K', ('N', 'H'): 'O', ('F', 'B'): 'K', ('H', 'S'): 'B', ('B', 'B'): 'V', ('V', 'B'): 'O', ('B', 'H'): 'H', ('O', 'K'): 'C', ('C', 'C'): 'B', ('F', 'K'): 'N', ('S', 'N'): 'V', ('H', 'K'): 'N', ('K', 'H'): 'F', ('O', 'S'): 'O', ('F', 'O'): 'P', ('O', 'H'): 'B', ('C', 'P'): 'S', ('B', 'N'): 'H', ('O', 'B'): 'B', ('B', 'P'): 'B', ('C', 'O'): 'K', ('S', 'P'): 'K', ('B', 'S'): 'P', ('V', 'V'): 'N', ('V', 'N'): 'O', ('N', 'F'): 'F', ('C', 'V'): 'B', ('H', 'C'): 'B', ('H', 'V'): 'S', ('B', 'C'): 'O', ('H', 'O'): 'H', ('P', 'O'): 'P', ('C', 'S'): 'B', ('P', 'H'): 'S', ('S', 'V'): 'V', ('V', 'P'): 'C', ('N', 'B'): 'K', ('H', 'F'): 'C'}\n"
     ]
    }
   ],
   "source": [
    "# Input\n",
    "\n",
    "with open(\"day_fourteen_input.txt\") as f:\n",
    "    data = f.read().split(\"\\n\\n\")\n",
    "\n",
    "template = data[0]\n",
    "\n",
    "rules = data[1].split(\"\\n\")\n",
    "rules = {tuple(list(r.split(\" -> \")[0])): r.split(\" -> \")[1] for r in rules}\n",
    "\n",
    "print(template)\n",
    "print(rules)"
   ]
  },
  {
   "cell_type": "code",
   "execution_count": 52,
   "metadata": {},
   "outputs": [
    {
     "data": {
      "text/plain": [
       "2740"
      ]
     },
     "execution_count": 52,
     "metadata": {},
     "output_type": "execute_result"
    }
   ],
   "source": [
    "# Part One\n",
    "\n",
    "from more_itertools import pairwise\n",
    "from collections import Counter\n",
    "\n",
    "temp = list(template)\n",
    "\n",
    "for step in range(10):\n",
    "    new = []\n",
    "    for pair in pairwise(temp):\n",
    "        line = pair[0] + rules[pair] if pair in rules.keys() else pair[0]\n",
    "        new.append(line)\n",
    "    temp = list(\"\".join(new))\n",
    "    temp.append(pair[1])\n",
    "\n",
    "polymer = \"\".join(temp)\n",
    "counter = Counter(list(polymer)).most_common()\n",
    "counter[0][1]-counter[-1][1]"
   ]
  },
  {
   "cell_type": "code",
   "execution_count": 126,
   "metadata": {},
   "outputs": [
    {
     "data": {
      "text/plain": [
       "2959788056211"
      ]
     },
     "execution_count": 126,
     "metadata": {},
     "output_type": "execute_result"
    }
   ],
   "source": [
    "# Part Two\n",
    "\n",
    "from more_itertools import pairwise\n",
    "from collections import Counter\n",
    "import copy\n",
    "\n",
    "counts = Counter(pairwise(list(template)))\n",
    "elem = Counter(list(template))\n",
    "\n",
    "for step in range(40):\n",
    "    counts_ = copy.deepcopy(counts)\n",
    "    for pair, tally in counts_.items():\n",
    "        counts[(pair[0], rules[pair])] += tally\n",
    "        counts[(rules[pair], pair[1])] += tally\n",
    "        counts[pair] -= tally\n",
    "        elem[rules[pair]] += tally\n",
    "\n",
    "elem.most_common()[0][1] - elem.most_common()[-1][1]"
   ]
  },
  {
   "cell_type": "markdown",
   "metadata": {},
   "source": [
    "### Day Fifteen"
   ]
  },
  {
   "cell_type": "code",
   "execution_count": 60,
   "metadata": {},
   "outputs": [
    {
     "data": {
      "text/plain": [
       "(100, 100)"
      ]
     },
     "execution_count": 60,
     "metadata": {},
     "output_type": "execute_result"
    }
   ],
   "source": [
    "# Input\n",
    "\n",
    "data = np.genfromtxt(\"day_fifteen_input.txt\", delimiter=1, dtype=np.int16)\n",
    "data.shape"
   ]
  },
  {
   "cell_type": "code",
   "execution_count": 61,
   "metadata": {},
   "outputs": [
    {
     "data": {
      "text/plain": [
       "621"
      ]
     },
     "execution_count": 61,
     "metadata": {},
     "output_type": "execute_result"
    },
    {
     "data": {
      "image/png": "[encoded data removed]",
      "text/plain": [
       "<Figure size 432x288 with 1 Axes>"
      ]
     },
     "metadata": {
      "needs_background": "light"
     },
     "output_type": "display_data"
    }
   ],
   "source": [
    "# Part One\n",
    "\n",
    "from skimage.graph import MCP\n",
    "\n",
    "risks = data.copy()\n",
    "\n",
    "start, end = (0,0), (99,99)\n",
    "\n",
    "mcp = MCP(risks, fully_connected=False)\n",
    "cumulative_costs, traceback = mcp.find_costs(starts=[start], ends=[end])\n",
    "\n",
    "rows, cols = zip(*mcp.traceback(end))\n",
    "risks_ = risks.copy()\n",
    "risks_[rows, cols] = 100\n",
    "plt.imshow(risks_)\n",
    "\n",
    "int(cumulative_costs[end]-risks[start])"
   ]
  },
  {
   "cell_type": "code",
   "execution_count": 62,
   "metadata": {},
   "outputs": [
    {
     "data": {
      "text/plain": [
       "2904"
      ]
     },
     "execution_count": 62,
     "metadata": {},
     "output_type": "execute_result"
    },
    {
     "data": {
      "image/png": "[encoded data removed]",
      "text/plain": [
       "<Figure size 432x288 with 1 Axes>"
      ]
     },
     "metadata": {
      "needs_background": "light"
     },
     "output_type": "display_data"
    }
   ],
   "source": [
    "# Part Two\n",
    "\n",
    "risks = data.copy()\n",
    "\n",
    "risks = np.concatenate([(risks+i)%9 for i in range(0,5)], axis=1)\n",
    "risks = np.concatenate([(risks+i)%9 for i in range(0,5)], axis=0)\n",
    "risks[risks==0] = 9\n",
    "\n",
    "start, end = (0,0), (499,499)\n",
    "\n",
    "mcp = MCP(risks, fully_connected=False)\n",
    "cumulative_costs, traceback = mcp.find_costs(starts=[start], ends=[end])\n",
    "\n",
    "rows, cols = zip(*mcp.traceback(end))\n",
    "risks_ = risks.copy()\n",
    "risks_[rows, cols] = 100\n",
    "plt.imshow(risks_)\n",
    "\n",
    "int(cumulative_costs[end]-risks[start])"
   ]
  },
  {
   "cell_type": "code",
   "execution_count": null,
   "metadata": {},
   "outputs": [],
   "source": []
  }
 ],
 "metadata": {
  "kernelspec": {
   "display_name": "Python 3",
   "language": "python",
   "name": "python3"
  },
  "language_info": {
   "codemirror_mode": {
    "name": "ipython",
    "version": 3
   },
   "file_extension": ".py",
   "mimetype": "text/x-python",
   "name": "python",
   "nbconvert_exporter": "python",
   "pygments_lexer": "ipython3",
   "version": "3.8.8"
  }
 },
 "nbformat": 4,
 "nbformat_minor": 4
}
